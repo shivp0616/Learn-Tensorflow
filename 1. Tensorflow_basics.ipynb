{
  "nbformat": 4,
  "nbformat_minor": 0,
  "metadata": {
    "colab": {
      "name": "Tensorflow basics.ipynb",
      "version": "0.3.2",
      "provenance": [],
      "collapsed_sections": []
    },
    "kernelspec": {
      "name": "python3",
      "display_name": "Python 3"
    }
  },
  "cells": [
    {
      "metadata": {
        "id": "5wbRX3R3b9WI",
        "colab_type": "text"
      },
      "cell_type": "markdown",
      "source": [
        "##Basics of tensorflow\n",
        "\n",
        "###TensorFlow is an open-source software library for dataflow programming across a range of tasks. It is a symbolic math library, and is also  used for machine learning applications such as neural networks. (Source: wikipedia)"
      ]
    },
    {
      "metadata": {
        "id": "N8wVEEWtchyh",
        "colab_type": "text"
      },
      "cell_type": "markdown",
      "source": [
        "Below are some codes that might help you to understand basics of tensorflow"
      ]
    },
    {
      "metadata": {
        "id": "PH_Yb3macCt4",
        "colab_type": "code",
        "colab": {}
      },
      "cell_type": "code",
      "source": [
        "\n",
        "import tensorflow as tf"
      ],
      "execution_count": 0,
      "outputs": []
    },
    {
      "metadata": {
        "id": "3lwQeeLmZ69R",
        "colab_type": "code",
        "outputId": "564a77ab-8343-49e6-efd2-bcc2d0d68f53",
        "colab": {
          "base_uri": "https://localhost:8080/",
          "height": 34
        }
      },
      "cell_type": "code",
      "source": [
        "a = tf.constant(2)\n",
        "b = tf.constant(3)\n",
        "\n",
        "c = a+b\n",
        "\n",
        "sess = tf.Session()\n",
        "print(sess.run(c))"
      ],
      "execution_count": 0,
      "outputs": [
        {
          "output_type": "stream",
          "text": [
            "5\n"
          ],
          "name": "stdout"
        }
      ]
    },
    {
      "metadata": {
        "id": "QxZcKx1qalDy",
        "colab_type": "code",
        "colab": {}
      },
      "cell_type": "code",
      "source": [
        "d = tf.constant(5)\n",
        "e = tf.constant(6)\n",
        "\n",
        "update_const = tf.assign(d,e)"
      ],
      "execution_count": 0,
      "outputs": []
    },
    {
      "metadata": {
        "id": "5EJ9FcIdbEAt",
        "colab_type": "code",
        "colab": {}
      },
      "cell_type": "code",
      "source": [
        "g = tf.Variable(5)\n",
        "h = tf.Variable(6)\n",
        "\n",
        "update_const = tf.assign(g,h)"
      ],
      "execution_count": 0,
      "outputs": []
    },
    {
      "metadata": {
        "id": "796k0ZIBbZIM",
        "colab_type": "code",
        "colab": {}
      },
      "cell_type": "code",
      "source": [
        "print(g)"
      ],
      "execution_count": 0,
      "outputs": []
    },
    {
      "metadata": {
        "id": "nSnkWRDHb77X",
        "colab_type": "code",
        "colab": {}
      },
      "cell_type": "code",
      "source": [
        "print(\"Value of a :\", sess.run(a))\n",
        "print(\"Value of b :\",sess.run(b))"
      ],
      "execution_count": 0,
      "outputs": []
    },
    {
      "metadata": {
        "id": "eCcbb8xdeEch",
        "colab_type": "code",
        "colab": {}
      },
      "cell_type": "code",
      "source": [
        "print(\"Value of a :\", sess.run(c))\n",
        "#print(\"Value of b :\",sess.run(b))"
      ],
      "execution_count": 0,
      "outputs": []
    },
    {
      "metadata": {
        "id": "w01C3ulEiMDw",
        "colab_type": "code",
        "colab": {}
      },
      "cell_type": "code",
      "source": [
        "#this will be an error\n",
        "print(\"Value of a :\", sess.run(g))\n"
      ],
      "execution_count": 0,
      "outputs": []
    },
    {
      "metadata": {
        "id": "SbnNZ8wJitU4",
        "colab_type": "code",
        "colab": {}
      },
      "cell_type": "code",
      "source": [
        "init_op = tf.global_variables_initializer()\n",
        "sess.run(init_op)"
      ],
      "execution_count": 0,
      "outputs": []
    },
    {
      "metadata": {
        "id": "qrUIhbcPi15C",
        "colab_type": "code",
        "colab": {}
      },
      "cell_type": "code",
      "source": [
        "#this will be an error\n",
        "print(\"Value of a :\", sess.run(g))\n"
      ],
      "execution_count": 0,
      "outputs": []
    },
    {
      "metadata": {
        "id": "IbigCpE3sO1l",
        "colab_type": "code",
        "colab": {}
      },
      "cell_type": "code",
      "source": [
        "#time is till 34:02\n",
        "#Youtube timings"
      ],
      "execution_count": 0,
      "outputs": []
    },
    {
      "metadata": {
        "id": "bdOlD-N1ck8N",
        "colab_type": "text"
      },
      "cell_type": "markdown",
      "source": [
        "Strings"
      ]
    },
    {
      "metadata": {
        "id": "Lps6U-e7cnpv",
        "colab_type": "code",
        "colab": {}
      },
      "cell_type": "code",
      "source": [
        "hello = tf.constant(\"Hello World\")\n",
        "print(sess.run(hello))"
      ],
      "execution_count": 0,
      "outputs": []
    },
    {
      "metadata": {
        "id": "viPLkvRRc8Ew",
        "colab_type": "code",
        "colab": {}
      },
      "cell_type": "code",
      "source": [
        "hi = tf.constant(\"This is Shiv\")\n",
        "#new_text = hello+hi\n",
        "new_text = tf.add(hello,hi)\n",
        "print(sess.run(new_text))"
      ],
      "execution_count": 0,
      "outputs": []
    },
    {
      "metadata": {
        "id": "Aa0o9MLzdmKk",
        "colab_type": "text"
      },
      "cell_type": "markdown",
      "source": [
        "Placeholders"
      ]
    },
    {
      "metadata": {
        "id": "bsLHxGgsdnuq",
        "colab_type": "code",
        "colab": {}
      },
      "cell_type": "code",
      "source": [
        "a = tf.placeholder(tf.float32)"
      ],
      "execution_count": 0,
      "outputs": []
    },
    {
      "metadata": {
        "id": "WZFrokO3dy0b",
        "colab_type": "code",
        "colab": {}
      },
      "cell_type": "code",
      "source": [
        "b = a*2"
      ],
      "execution_count": 0,
      "outputs": []
    },
    {
      "metadata": {
        "id": "1NyUoGAHd2bb",
        "colab_type": "code",
        "outputId": "fa10dbe8-d9dd-4d79-e97e-4632190ea34f",
        "colab": {
          "base_uri": "https://localhost:8080/",
          "height": 34
        }
      },
      "cell_type": "code",
      "source": [
        "#feeding a placeholder with a value\n",
        "#result = sess.run(b, feed_dict={a:3})\n",
        "result = sess.run(b, {a:3})\n",
        "print(result)"
      ],
      "execution_count": 0,
      "outputs": [
        {
          "output_type": "stream",
          "text": [
            "6.0\n"
          ],
          "name": "stdout"
        }
      ]
    },
    {
      "metadata": {
        "id": "gVk39NYBe52C",
        "colab_type": "code",
        "outputId": "1ad3066f-3ddb-4052-fdbf-a2fc6fd4f299",
        "colab": {
          "base_uri": "https://localhost:8080/",
          "height": 34
        }
      },
      "cell_type": "code",
      "source": [
        "res = sess.run(b, {a: [3,4,5]})\n",
        "print(res)"
      ],
      "execution_count": 0,
      "outputs": [
        {
          "output_type": "stream",
          "text": [
            "[ 6.  8. 10.]\n"
          ],
          "name": "stdout"
        }
      ]
    },
    {
      "metadata": {
        "id": "B9krtD06fKpK",
        "colab_type": "code",
        "outputId": "be89081a-a651-413f-90b1-0cf1b6a892a2",
        "colab": {
          "base_uri": "https://localhost:8080/",
          "height": 68
        }
      },
      "cell_type": "code",
      "source": [
        "dictio = {a: [[1,2,3],[4,5,6],[7,8,9]]}\n",
        "res1 = sess.run(b, dictio)\n",
        "print(res1)"
      ],
      "execution_count": 0,
      "outputs": [
        {
          "output_type": "stream",
          "text": [
            "[[ 2.  4.  6.]\n",
            " [ 8. 10. 12.]\n",
            " [14. 16. 18.]]\n"
          ],
          "name": "stdout"
        }
      ]
    },
    {
      "metadata": {
        "id": "LuqYOX0sf16e",
        "colab_type": "code",
        "colab": {}
      },
      "cell_type": "code",
      "source": [
        "sess.close()"
      ],
      "execution_count": 0,
      "outputs": []
    },
    {
      "metadata": {
        "id": "9sNASXiLi59Q",
        "colab_type": "code",
        "outputId": "c450b8c3-7745-46fc-ed09-f4d99bfde6ba",
        "colab": {
          "base_uri": "https://localhost:8080/",
          "height": 34
        }
      },
      "cell_type": "code",
      "source": [
        "with tf.Session() as sess:\n",
        "  res = sess.run(hello+hi)\n",
        "  print(res)"
      ],
      "execution_count": 0,
      "outputs": [
        {
          "output_type": "stream",
          "text": [
            "b'Hello WorldThis is Shiv'\n"
          ],
          "name": "stdout"
        }
      ]
    },
    {
      "metadata": {
        "id": "7K2wLIkKjEQE",
        "colab_type": "code",
        "colab": {}
      },
      "cell_type": "code",
      "source": [
        "res = sess.run(hello+hi)\n",
        "print(res)"
      ],
      "execution_count": 0,
      "outputs": []
    },
    {
      "metadata": {
        "id": "pONlIeTUjHx9",
        "colab_type": "code",
        "colab": {}
      },
      "cell_type": "code",
      "source": [
        ""
      ],
      "execution_count": 0,
      "outputs": []
    }
  ]
}
