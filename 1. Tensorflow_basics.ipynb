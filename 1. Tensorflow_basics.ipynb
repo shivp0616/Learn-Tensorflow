{
 "cells": [
  {
   "cell_type": "markdown",
   "metadata": {
    "colab_type": "text",
    "id": "5wbRX3R3b9WI"
   },
   "source": [
    "##Basics of tensorflow\n",
    "\n",
    "###TensorFlow is an open-source software library for dataflow programming across a range of tasks. It is a symbolic math library, and is also  used for machine learning applications such as neural networks. (Source: wikipedia)"
   ]
  },
  {
   "cell_type": "markdown",
   "metadata": {
    "colab_type": "text",
    "id": "N8wVEEWtchyh"
   },
   "source": [
    "Below are some codes that might help you to understand basics of tensorflow"
   ]
  },
  {
   "cell_type": "code",
   "execution_count": null,
   "metadata": {
    "colab": {},
    "colab_type": "code",
    "collapsed": false,
    "id": "PH_Yb3macCt4"
   },
   "outputs": [],
   "source": [
    "#importing tensorflow with alias tf\n",
    "import tensorflow as tf"
   ]
  },
  {
   "cell_type": "code",
   "execution_count": null,
   "metadata": {
    "colab": {
     "base_uri": "https://localhost:8080/",
     "height": 34
    },
    "colab_type": "code",
    "collapsed": false,
    "id": "3lwQeeLmZ69R",
    "outputId": "564a77ab-8343-49e6-efd2-bcc2d0d68f53"
   },
   "outputs": [],
   "source": [
    "#declaring two constants a & b and initializing them with values 2 & 3 and then printing the result\n",
    "a = tf.constant(2)\n",
    "b = tf.constant(3)\n",
    "\n",
    "c = a+b\n",
    "\n",
    "sess = tf.Session()\n",
    "print(sess.run(c))"
   ]
  },
  {
   "cell_type": "code",
   "execution_count": null,
   "metadata": {
    "colab": {},
    "colab_type": "code",
    "collapsed": false,
    "id": "QxZcKx1qalDy"
   },
   "outputs": [],
   "source": [
    "#when defining a constant, you have to give it a value, otherwise it will give you error\n",
    "d = tf.constant()   #this will raise an error\n"
   ]
  },
  {
   "cell_type": "code",
   "execution_count": null,
   "metadata": {
    "collapsed": false
   },
   "outputs": [],
   "source": [
    "d = tf.constant(5)\n",
    "e = tf.constant(6)\n",
    "update_const = tf.assign(d,e) #this will also raise an error as constant cant be re assigned"
   ]
  },
  {
   "cell_type": "code",
   "execution_count": null,
   "metadata": {
    "collapsed": false
   },
   "outputs": [],
   "source": [
    "d = tf.constant(5)\n",
    "e = tf.constant(6)\n",
    "print(\"d: \",d)\n",
    "print(\"e: \",e)\n",
    "d = e #this wont be an error as 'd' is now not the old Tensor. It is now the same tensor as 'e'\n",
    "print(\"d: \",d)\n",
    "print(sess.run(d))"
   ]
  },
  {
   "cell_type": "code",
   "execution_count": null,
   "metadata": {
    "colab": {},
    "colab_type": "code",
    "collapsed": false,
    "id": "5EJ9FcIdbEAt"
   },
   "outputs": [],
   "source": [
    "g = tf.Variable(1)\n",
    "h = tf.Variable(2)\n",
    "\n",
    "update_const = tf.assign(g,h)"
   ]
  },
  {
   "cell_type": "code",
   "execution_count": null,
   "metadata": {
    "colab": {},
    "colab_type": "code",
    "collapsed": false,
    "id": "796k0ZIBbZIM"
   },
   "outputs": [],
   "source": [
    "print(g)"
   ]
  },
  {
   "cell_type": "code",
   "execution_count": null,
   "metadata": {
    "colab": {},
    "colab_type": "code",
    "collapsed": false,
    "id": "nSnkWRDHb77X"
   },
   "outputs": [],
   "source": [
    "print(\"Value of a :\", sess.run(a))\n",
    "print(\"Value of b :\",sess.run(b))"
   ]
  },
  {
   "cell_type": "code",
   "execution_count": null,
   "metadata": {
    "colab": {},
    "colab_type": "code",
    "collapsed": false,
    "id": "eCcbb8xdeEch"
   },
   "outputs": [],
   "source": [
    "print(\"Value of c :\", sess.run(c))\n",
    "#print(\"Value of b :\",sess.run(b))"
   ]
  },
  {
   "cell_type": "code",
   "execution_count": null,
   "metadata": {
    "colab": {},
    "colab_type": "code",
    "collapsed": false,
    "id": "w01C3ulEiMDw"
   },
   "outputs": [],
   "source": [
    "#this will be an error as accourding to tensorflow, 'g' is right now uninitialized\n",
    "print(\"Value of g :\", sess.run(g))"
   ]
  },
  {
   "cell_type": "code",
   "execution_count": null,
   "metadata": {
    "colab": {},
    "colab_type": "code",
    "collapsed": true,
    "id": "SbnNZ8wJitU4"
   },
   "outputs": [],
   "source": [
    "#to overcome the above problem, all you have to do is to run these 2 lines of code and you will be good to go\n",
    "init_op = tf.global_variables_initializer()\n",
    "sess.run(init_op)"
   ]
  },
  {
   "cell_type": "code",
   "execution_count": null,
   "metadata": {
    "colab": {},
    "colab_type": "code",
    "collapsed": false,
    "id": "qrUIhbcPi15C"
   },
   "outputs": [],
   "source": [
    "#this will be an error\n",
    "print(\"Value of a :\", sess.run(g))\n"
   ]
  },
  {
   "cell_type": "markdown",
   "metadata": {
    "colab_type": "text",
    "id": "bdOlD-N1ck8N"
   },
   "source": [
    "##Strings"
   ]
  },
  {
   "cell_type": "code",
   "execution_count": null,
   "metadata": {
    "colab": {},
    "colab_type": "code",
    "collapsed": false,
    "id": "Lps6U-e7cnpv"
   },
   "outputs": [],
   "source": [
    "hello = tf.constant(\"Hello World\")\n",
    "print(sess.run(hello))"
   ]
  },
  {
   "cell_type": "code",
   "execution_count": null,
   "metadata": {
    "colab": {},
    "colab_type": "code",
    "collapsed": false,
    "id": "viPLkvRRc8Ew"
   },
   "outputs": [],
   "source": [
    "hi = tf.constant(\"This is Shiv\")\n",
    "print(hi)\n",
    "print(sess.run(hi))\n",
    "\n",
    "new_text = tf.add(hello,hi)  #this is same as new_text = hello+hi\n",
    "print(sess.run(new_text))"
   ]
  },
  {
   "cell_type": "code",
   "execution_count": null,
   "metadata": {
    "collapsed": false
   },
   "outputs": [],
   "source": [
    "#there was a no space between the joined strings, so we will add one space then join\n",
    "hello = hello + \" \"\n",
    "new_text = tf.add(hello,hi)\n",
    "print(sess.run(new_text))\n"
   ]
  },
  {
   "cell_type": "markdown",
   "metadata": {
    "colab_type": "text",
    "id": "Aa0o9MLzdmKk"
   },
   "source": [
    "##Placeholders\n",
    "A placeholder is simply a variable that we will assign data to at a later date. It allows us to create our operations and build our computation graph, without needing the data."
   ]
  },
  {
   "cell_type": "code",
   "execution_count": null,
   "metadata": {
    "colab": {},
    "colab_type": "code",
    "collapsed": true,
    "id": "bsLHxGgsdnuq"
   },
   "outputs": [],
   "source": [
    "#you can see that we are not defining the value of 'a', we are just defining the datatype of it\n",
    "a = tf.placeholder(tf.float32)\n"
   ]
  },
  {
   "cell_type": "code",
   "execution_count": null,
   "metadata": {
    "colab": {},
    "colab_type": "code",
    "collapsed": true,
    "id": "WZFrokO3dy0b"
   },
   "outputs": [],
   "source": [
    "#'b' will be two times the value of 'a', but a is still not having any value, so will assign it later\n",
    "b = a*2"
   ]
  },
  {
   "cell_type": "code",
   "execution_count": null,
   "metadata": {
    "colab": {
     "base_uri": "https://localhost:8080/",
     "height": 34
    },
    "colab_type": "code",
    "collapsed": false,
    "id": "1NyUoGAHd2bb",
    "outputId": "fa10dbe8-d9dd-4d79-e97e-4632190ea34f"
   },
   "outputs": [],
   "source": [
    "#feeding a placeholder with a value\n",
    "#the value of a will be passed as a dictionary\n",
    "result = sess.run(b, feed_dict={a:3})\n",
    "\n",
    "\n",
    "#you can pass the values directly also as given below, both will give the same result\n",
    "#result = sess.run(b, {a:3})\n",
    "\n",
    "print(result)"
   ]
  },
  {
   "cell_type": "code",
   "execution_count": null,
   "metadata": {
    "colab": {
     "base_uri": "https://localhost:8080/",
     "height": 34
    },
    "colab_type": "code",
    "collapsed": false,
    "id": "gVk39NYBe52C",
    "outputId": "1ad3066f-3ddb-4052-fdbf-a2fc6fd4f299"
   },
   "outputs": [],
   "source": [
    "#'b'was just a multiple of a, so if we will pass 'a' as [3,4,5],\n",
    "#the result will be [6. 8. 10.] as the datatype of 'a' was float32\n",
    "res = sess.run(b, {a: [3,4,5]})\n",
    "print(res)"
   ]
  },
  {
   "cell_type": "code",
   "execution_count": null,
   "metadata": {
    "colab": {
     "base_uri": "https://localhost:8080/",
     "height": 68
    },
    "colab_type": "code",
    "collapsed": false,
    "id": "B9krtD06fKpK",
    "outputId": "be89081a-a651-413f-90b1-0cf1b6a892a2"
   },
   "outputs": [],
   "source": [
    "#this is also another way to pass the values\n",
    "dictio = {a: [[1,2,3],[4,5,6],[7,8,9]]}\n",
    "res1 = sess.run(b, dictio)\n",
    "print(res1)"
   ]
  },
  {
   "cell_type": "code",
   "execution_count": null,
   "metadata": {
    "collapsed": true
   },
   "outputs": [],
   "source": [
    "#lets deal with more than 2 placeholders\n",
    "b = tf.placeholder(tf.float32)\n",
    "c = tf.placeholder(tf.float32)\n",
    "\n",
    "d = b+c"
   ]
  },
  {
   "cell_type": "code",
   "execution_count": null,
   "metadata": {
    "collapsed": false
   },
   "outputs": [],
   "source": [
    "#again, to give the values to 'b' and 'c', we will pass it using a dictionary\n",
    "res = sess.run(d, {b: 2, c:3})\n",
    "print(res)"
   ]
  },
  {
   "cell_type": "code",
   "execution_count": null,
   "metadata": {
    "colab": {},
    "colab_type": "code",
    "collapsed": false,
    "id": "LuqYOX0sf16e"
   },
   "outputs": [],
   "source": [
    "#dont forget to close the session because\n",
    "#A session may own resources, such as tf.Variable.\n",
    "#It is important to release these resources when they are no longer required.\n",
    "#for that, call the close() method\n",
    "sess.close()"
   ]
  },
  {
   "cell_type": "code",
   "execution_count": null,
   "metadata": {
    "collapsed": false
   },
   "outputs": [],
   "source": [
    "#after executing the above line of codes, the following code will return an error as there is now no object 'sess'\n",
    "res = sess.run(hello+hi)\n",
    "print(res)"
   ]
  },
  {
   "cell_type": "code",
   "execution_count": null,
   "metadata": {
    "colab": {
     "base_uri": "https://localhost:8080/",
     "height": 34
    },
    "colab_type": "code",
    "collapsed": false,
    "id": "9sNASXiLi59Q",
    "outputId": "c450b8c3-7745-46fc-ed09-f4d99bfde6ba"
   },
   "outputs": [],
   "source": [
    "#another way that is generally used is given below because in this case you dont have to explicitly close the session \n",
    "\n",
    "with tf.Session() as sess:\n",
    "  res = sess.run(hello+hi)\n",
    "  print(res)"
   ]
  },
  {
   "cell_type": "code",
   "execution_count": null,
   "metadata": {
    "colab": {},
    "colab_type": "code",
    "collapsed": false,
    "id": "7K2wLIkKjEQE"
   },
   "outputs": [],
   "source": [
    "#this will also return an error as the session was closed as the control came out of the loop\n",
    "print(res)"
   ]
  },
  {
   "cell_type": "code",
   "execution_count": null,
   "metadata": {
    "colab": {},
    "colab_type": "code",
    "collapsed": true,
    "id": "pONlIeTUjHx9"
   },
   "outputs": [],
   "source": []
  }
 ],
 "metadata": {
  "colab": {
   "collapsed_sections": [],
   "name": "Tensorflow basics.ipynb",
   "provenance": [],
   "version": "0.3.2"
  },
  "kernelspec": {
   "display_name": "Python 3",
   "language": "python",
   "name": "python3"
  },
  "language_info": {
   "codemirror_mode": {
    "name": "ipython",
    "version": 3
   },
   "file_extension": ".py",
   "mimetype": "text/x-python",
   "name": "python",
   "nbconvert_exporter": "python",
   "pygments_lexer": "ipython3",
   "version": "3.6.0"
  }
 },
 "nbformat": 4,
 "nbformat_minor": 0
}
